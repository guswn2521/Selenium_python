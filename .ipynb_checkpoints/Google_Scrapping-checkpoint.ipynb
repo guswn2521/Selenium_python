{
 "cells": [
  {
   "cell_type": "code",
   "execution_count": 2,
   "metadata": {
    "collapsed": true
   },
   "outputs": [
    {
     "name": "stdout",
     "output_type": "stream",
     "text": [
      "Collecting webdriver-manager\n",
      "  Downloading webdriver_manager-3.4.1-py2.py3-none-any.whl (16 kB)\n",
      "Collecting crayons\n",
      "  Downloading crayons-0.4.0-py2.py3-none-any.whl (4.6 kB)\n",
      "Requirement already satisfied: requests in c:\\users\\guswn\\anaconda3\\lib\\site-packages (from webdriver-manager) (2.24.0)\n",
      "Collecting configparser\n",
      "  Downloading configparser-5.0.2-py3-none-any.whl (19 kB)\n",
      "Requirement already satisfied: colorama in c:\\users\\guswn\\appdata\\roaming\\python\\python38\\site-packages (from crayons->webdriver-manager) (0.4.3)\n",
      "Requirement already satisfied: certifi>=2017.4.17 in c:\\users\\guswn\\appdata\\roaming\\python\\python38\\site-packages (from requests->webdriver-manager) (2020.12.5)\n",
      "Requirement already satisfied: urllib3!=1.25.0,!=1.25.1,<1.26,>=1.21.1 in c:\\users\\guswn\\anaconda3\\lib\\site-packages (from requests->webdriver-manager) (1.25.9)\n",
      "Requirement already satisfied: chardet<4,>=3.0.2 in c:\\users\\guswn\\anaconda3\\lib\\site-packages (from requests->webdriver-manager) (3.0.4)\n",
      "Requirement already satisfied: idna<3,>=2.5 in c:\\users\\guswn\\anaconda3\\lib\\site-packages (from requests->webdriver-manager) (2.10)\n",
      "Installing collected packages: crayons, configparser, webdriver-manager\n",
      "Successfully installed configparser-5.0.2 crayons-0.4.0 webdriver-manager-3.4.1\n"
     ]
    }
   ],
   "source": [
    "# !pip install webdriver-manager"
   ]
  },
  {
   "cell_type": "code",
   "execution_count": 8,
   "metadata": {},
   "outputs": [],
   "source": [
    "# !mkdir screenshots"
   ]
  },
  {
   "cell_type": "code",
   "execution_count": 1,
   "metadata": {},
   "outputs": [],
   "source": [
    "from selenium import webdriver\n",
    "from selenium.webdriver.common.keys import Keys\n",
    "from selenium.webdriver.common.by import By\n",
    "from webdriver_manager.chrome import ChromeDriverManager\n",
    "from selenium.webdriver.support import expected_conditions as EC\n",
    "from selenium.webdriver.support.ui import WebDriverWait\n",
    "import time "
   ]
  },
  {
   "cell_type": "code",
   "execution_count": 2,
   "metadata": {},
   "outputs": [],
   "source": [
    "## 글 별로 스크린샷찍는 클래스\n",
    "class GoogleKeywordScreenshoter():\n",
    "    \n",
    "    def __init__(self, keyword, screenshots_dir):\n",
    "        self.browser = webdriver.Chrome(ChromeDriverManager().install())\n",
    "        self.keyword = keyword\n",
    "        self.screenshots_dir = screenshots_dir\n",
    "    \n",
    "    def start(self):\n",
    "        self.browser.get('https://google.com')\n",
    "        search_bar = self.browser.find_element_by_class_name('gLFyf')\n",
    "        search_bar.send_keys(self.keyword)\n",
    "        search_bar.send_keys(Keys.ENTER)\n",
    "        try:\n",
    "            shitty_element = WebDriverWait(self.browser, 4).until(\n",
    "                EC.presence_of_element_located((By.CLASS_NAME, \"g-blk\"))\n",
    "            )\n",
    "            self.browser.execute_script(\n",
    "                \"\"\"\n",
    "            const shitty = arguments[0];\n",
    "            shitty.parentElement.removeChild(shitty)\n",
    "            \"\"\",\n",
    "                shitty_element)\n",
    "        except Exception:\n",
    "            pass\n",
    "\n",
    "        search_results = self.browser.find_elements_by_class_name('g')\n",
    "        for index, search_result in enumerate(search_results):\n",
    "            class_name = search_result.get_attribute('class')\n",
    "            if class_name =='g':\n",
    "                search_result.screenshot(f\"{self.screenshots_dir}/{self.keyword}x{index}.png\")\n",
    "    \n",
    "    def finish(self):\n",
    "        self.browser.quit()"
   ]
  },
  {
   "cell_type": "code",
   "execution_count": 18,
   "metadata": {},
   "outputs": [
    {
     "name": "stderr",
     "output_type": "stream",
     "text": [
      "\n",
      "\n",
      "====== WebDriver manager ======\n",
      "Current google-chrome version is 90.0.4430\n",
      "Get LATEST driver version for 90.0.4430\n",
      "Driver [C:\\Users\\guswn\\.wdm\\drivers\\chromedriver\\win32\\90.0.4430.24\\chromedriver.exe] found in cache\n",
      "\n",
      "\n",
      "====== WebDriver manager ======\n",
      "Current google-chrome version is 90.0.4430\n",
      "Get LATEST driver version for 90.0.4430\n",
      "Driver [C:\\Users\\guswn\\.wdm\\drivers\\chromedriver\\win32\\90.0.4430.24\\chromedriver.exe] found in cache\n"
     ]
    }
   ],
   "source": [
    "## 클래스 실행\n",
    "domain_competitors = GoogleKeywordScreenshoter('buy domain', 'screenshots')\n",
    "domain_competitors.start()\n",
    "domain_competitors.finish()\n",
    "python_competitors = GoogleKeywordScreenshoter('python book', 'screenshots')\n",
    "python_competitors.start()\n",
    "python_competitors.finish()"
   ]
  },
  {
   "cell_type": "code",
   "execution_count": null,
   "metadata": {},
   "outputs": [],
   "source": []
  },
  {
   "cell_type": "code",
   "execution_count": 1,
   "metadata": {},
   "outputs": [],
   "source": [
    "KEYWORD = 'buy domain'"
   ]
  },
  {
   "cell_type": "code",
   "execution_count": 2,
   "metadata": {},
   "outputs": [
    {
     "name": "stderr",
     "output_type": "stream",
     "text": [
      "\n",
      "\n",
      "====== WebDriver manager ======\n",
      "Current google-chrome version is 90.0.4430\n",
      "Get LATEST driver version for 90.0.4430\n",
      "Get LATEST driver version for 90.0.4430\n",
      "Trying to download new driver from https://chromedriver.storage.googleapis.com/90.0.4430.24/chromedriver_win32.zip\n",
      "Driver has been saved in cache [C:\\Users\\guswn\\.wdm\\drivers\\chromedriver\\win32\\90.0.4430.24]\n"
     ]
    }
   ],
   "source": [
    "# path = \"../chromedriver.exe\" \n",
    "# driver = webdriver.Chrome(path) \n",
    "## chrome driver설치\n",
    "\n",
    "\n",
    "## 브라우저 키기\n",
    "browser = webdriver.Chrome(ChromeDriverManager().install())\n",
    "browser.get('https://google.com')\n",
    "\n",
    "## 검색어 입력하기\n",
    "search_bar = browser.find_element_by_class_name('gLFyf')\n",
    "search_bar.send_keys(KEYWORD)\n",
    "search_bar.send_keys(Keys.ENTER)\n",
    "\n",
    "\n",
    "search_results = browser.find_elements_by_class_name('g')\n",
    "\n",
    "## 필요없는데이터 제외하기\n",
    "shitty_element = WebDriverWait(browser, 10).until(\n",
    "    EC.presence_of_element_located((By.CLASS_NAME, \"g-blk\"))\n",
    ")\n",
    "\n",
    "shitty_element\n",
    "\n",
    "## 브라우저에서 element 없애기\n",
    "browser.execute_script(\n",
    "    \"\"\"\n",
    "const shitty = arguments[0];\n",
    "shitty.parentElement.removeChild(shitty)\n",
    "\"\"\",\n",
    "    shitty_element)\n",
    "\n",
    "for index, search_result in enumerate(search_results):\n",
    "    class_name = search_result.get_attribute('class')\n",
    "    \n",
    "    if class_name =='g':\n",
    "        search_result.screenshot(f\"screenshots/{KEYWORD}x{index}.png\")\n",
    "        print(class_name)\n",
    "        "
   ]
  }
 ],
 "metadata": {
  "kernelspec": {
   "display_name": "Python 3",
   "language": "python",
   "name": "python3"
  },
  "language_info": {
   "codemirror_mode": {
    "name": "ipython",
    "version": 3
   },
   "file_extension": ".py",
   "mimetype": "text/x-python",
   "name": "python",
   "nbconvert_exporter": "python",
   "pygments_lexer": "ipython3",
   "version": "3.8.3"
  }
 },
 "nbformat": 4,
 "nbformat_minor": 4
}
