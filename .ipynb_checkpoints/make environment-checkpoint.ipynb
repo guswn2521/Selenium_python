{
 "cells": [
  {
   "cell_type": "code",
   "execution_count": 2,
   "metadata": {
    "collapsed": true
   },
   "outputs": [
    {
     "name": "stdout",
     "output_type": "stream",
     "text": [
      "Collecting webdriver-manager\n",
      "  Downloading webdriver_manager-3.4.1-py2.py3-none-any.whl (16 kB)\n",
      "Collecting crayons\n",
      "  Downloading crayons-0.4.0-py2.py3-none-any.whl (4.6 kB)\n",
      "Requirement already satisfied: requests in c:\\users\\guswn\\anaconda3\\lib\\site-packages (from webdriver-manager) (2.24.0)\n",
      "Collecting configparser\n",
      "  Downloading configparser-5.0.2-py3-none-any.whl (19 kB)\n",
      "Requirement already satisfied: colorama in c:\\users\\guswn\\appdata\\roaming\\python\\python38\\site-packages (from crayons->webdriver-manager) (0.4.3)\n",
      "Requirement already satisfied: certifi>=2017.4.17 in c:\\users\\guswn\\appdata\\roaming\\python\\python38\\site-packages (from requests->webdriver-manager) (2020.12.5)\n",
      "Requirement already satisfied: urllib3!=1.25.0,!=1.25.1,<1.26,>=1.21.1 in c:\\users\\guswn\\anaconda3\\lib\\site-packages (from requests->webdriver-manager) (1.25.9)\n",
      "Requirement already satisfied: chardet<4,>=3.0.2 in c:\\users\\guswn\\anaconda3\\lib\\site-packages (from requests->webdriver-manager) (3.0.4)\n",
      "Requirement already satisfied: idna<3,>=2.5 in c:\\users\\guswn\\anaconda3\\lib\\site-packages (from requests->webdriver-manager) (2.10)\n",
      "Installing collected packages: crayons, configparser, webdriver-manager\n",
      "Successfully installed configparser-5.0.2 crayons-0.4.0 webdriver-manager-3.4.1\n"
     ]
    }
   ],
   "source": [
    "# !pip install webdriver-manager"
   ]
  },
  {
   "cell_type": "code",
   "execution_count": 9,
   "metadata": {},
   "outputs": [],
   "source": [
    "from selenium import webdriver\n",
    "from selenium.webdriver.common.keys import Keys\n",
    "from webdriver_manager.chrome import ChromeDriverManager\n",
    "import time "
   ]
  },
  {
   "cell_type": "code",
   "execution_count": 7,
   "metadata": {
    "collapsed": true
   },
   "outputs": [
    {
     "name": "stderr",
     "output_type": "stream",
     "text": [
      "\n",
      "\n",
      "====== WebDriver manager ======\n",
      "Current google-chrome version is 90.0.4430\n",
      "Get LATEST driver version for 90.0.4430\n",
      "Driver [C:\\Users\\guswn\\.wdm\\drivers\\chromedriver\\win32\\90.0.4430.24\\chromedriver.exe] found in cache\n"
     ]
    }
   ],
   "source": [
    "# path = \"../chromedriver.exe\" \n",
    "# driver = webdriver.Chrome(path) \n",
    "## chrome driver설치\n",
    "\n",
    "browser = webdriver.Chrome(ChromeDriverManager().install())\n",
    "browser.get('https://google.com')"
   ]
  },
  {
   "cell_type": "code",
   "execution_count": 10,
   "metadata": {},
   "outputs": [],
   "source": [
    "search_bar = browser.find_element_by_class_name('gLFyf')\n",
    "search_bar.send_keys('MintChoco')\n",
    "search_bar.send_keys(Keys.ENTER)\n"
   ]
  },
  {
   "cell_type": "code",
   "execution_count": 13,
   "metadata": {},
   "outputs": [
    {
     "data": {
      "text/plain": [
       "[<selenium.webdriver.remote.webelement.WebElement (session=\"eb5d2c47ac16b99d6d6f5e7b584936cf\", element=\"2cda7c32-10e5-4822-a1ee-06d482706abf\")>,\n",
       " <selenium.webdriver.remote.webelement.WebElement (session=\"eb5d2c47ac16b99d6d6f5e7b584936cf\", element=\"f9fb36b1-81c1-44aa-b079-257b2bffe4af\")>,\n",
       " <selenium.webdriver.remote.webelement.WebElement (session=\"eb5d2c47ac16b99d6d6f5e7b584936cf\", element=\"22f35c64-3629-4b06-b49d-1b334a9a7f1c\")>,\n",
       " <selenium.webdriver.remote.webelement.WebElement (session=\"eb5d2c47ac16b99d6d6f5e7b584936cf\", element=\"3fb08bd5-199f-4488-b604-ea1256f198da\")>,\n",
       " <selenium.webdriver.remote.webelement.WebElement (session=\"eb5d2c47ac16b99d6d6f5e7b584936cf\", element=\"434df062-9c90-4ef7-83b2-1122f7c802e4\")>,\n",
       " <selenium.webdriver.remote.webelement.WebElement (session=\"eb5d2c47ac16b99d6d6f5e7b584936cf\", element=\"84436fe6-a9ca-45a9-9031-852521d4a7ce\")>,\n",
       " <selenium.webdriver.remote.webelement.WebElement (session=\"eb5d2c47ac16b99d6d6f5e7b584936cf\", element=\"9ce70276-fb81-4df8-bfd2-9bdff77139fe\")>]"
      ]
     },
     "execution_count": 13,
     "metadata": {},
     "output_type": "execute_result"
    }
   ],
   "source": [
    "search_results = browser.find_elements_by_class_name('g')\n",
    "search_results"
   ]
  },
  {
   "cell_type": "code",
   "execution_count": null,
   "metadata": {},
   "outputs": [],
   "source": []
  },
  {
   "cell_type": "code",
   "execution_count": null,
   "metadata": {},
   "outputs": [],
   "source": []
  },
  {
   "cell_type": "code",
   "execution_count": null,
   "metadata": {},
   "outputs": [],
   "source": []
  },
  {
   "cell_type": "code",
   "execution_count": null,
   "metadata": {},
   "outputs": [],
   "source": []
  },
  {
   "cell_type": "code",
   "execution_count": 5,
   "metadata": {},
   "outputs": [],
   "source": [
    "browser.quit()"
   ]
  },
  {
   "cell_type": "code",
   "execution_count": null,
   "metadata": {},
   "outputs": [],
   "source": []
  },
  {
   "cell_type": "code",
   "execution_count": null,
   "metadata": {},
   "outputs": [],
   "source": []
  },
  {
   "cell_type": "code",
   "execution_count": null,
   "metadata": {},
   "outputs": [],
   "source": []
  },
  {
   "cell_type": "code",
   "execution_count": 3,
   "metadata": {},
   "outputs": [],
   "source": [
    "url1 = \"https://www.naver.com\" \n",
    "url2 = \"https://www.google.com\" \n",
    "driver.get(url1) \n",
    "time.sleep(5) \n",
    "driver.get(url2) \n",
    "time.sleep(5) \n",
    "driver.quit()"
   ]
  }
 ],
 "metadata": {
  "kernelspec": {
   "display_name": "Python 3",
   "language": "python",
   "name": "python3"
  },
  "language_info": {
   "codemirror_mode": {
    "name": "ipython",
    "version": 3
   },
   "file_extension": ".py",
   "mimetype": "text/x-python",
   "name": "python",
   "nbconvert_exporter": "python",
   "pygments_lexer": "ipython3",
   "version": "3.8.3"
  }
 },
 "nbformat": 4,
 "nbformat_minor": 4
}
