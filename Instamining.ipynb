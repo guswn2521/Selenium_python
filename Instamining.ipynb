{
 "cells": [
  {
   "cell_type": "code",
   "execution_count": 1,
   "metadata": {},
   "outputs": [],
   "source": [
    "from selenium import webdriver\n",
    "from webdriver_manager.chrome import ChromeDriverManager\n",
    "from selenium.webdriver.common.keys import Keys\n",
    "from selenium.webdriver import ActionChains\n",
    "from collections import Counter\n",
    "import time\n",
    "from selenium.webdriver.common.by import By\n",
    "from selenium.webdriver.support import expected_conditions as EC\n",
    "from selenium.webdriver.support.ui import WebDriverWait\n",
    "from dotenv import dotenv_values\n",
    "config = dotenv_values('.env')"
   ]
  },
  {
   "cell_type": "code",
   "execution_count": 2,
   "metadata": {},
   "outputs": [],
   "source": [
    "insta_ID = config['insta_ID']\n",
    "insta_PD = config['insta_PD']"
   ]
  },
  {
   "cell_type": "code",
   "execution_count": 26,
   "metadata": {},
   "outputs": [],
   "source": [
    "def wait_for(locator):\n",
    "    return WebDriverWait(browser, 4).until(\n",
    "    EC.presence_of_element_located(locator)\n",
    "    )"
   ]
  },
  {
   "cell_type": "code",
   "execution_count": 27,
   "metadata": {},
   "outputs": [
    {
     "name": "stderr",
     "output_type": "stream",
     "text": [
      "\n",
      "\n",
      "====== WebDriver manager ======\n",
      "Current google-chrome version is 91.0.4472\n",
      "Get LATEST driver version for 91.0.4472\n",
      "Get LATEST driver version for 91.0.4472\n",
      "Trying to download new driver from https://chromedriver.storage.googleapis.com/91.0.4472.19/chromedriver_win32.zip\n",
      "Driver has been saved in cache [C:\\Users\\guswn\\.wdm\\drivers\\chromedriver\\win32\\91.0.4472.19]\n"
     ]
    },
    {
     "name": "stdout",
     "output_type": "stream",
     "text": [
      "9\n",
      "215\n"
     ]
    }
   ],
   "source": [
    "## 로그인\n",
    "browser = webdriver.Chrome(ChromeDriverManager().install())\n",
    "browser.get(f'https://www.instagram.com/accounts/login/')\n",
    "\n",
    "wait_for((By.CLASS_NAME, \"_2hvTZ\"))\n",
    "\n",
    "insta_id = browser.find_element_by_name('username')\n",
    "insta_pw = browser.find_element_by_name('password')\n",
    "\n",
    "insta_id.send_keys(insta_ID)\n",
    "insta_pw.send_keys(insta_PD)\n",
    "insta_pw.send_keys(Keys.ENTER)\n",
    "\n",
    "time.sleep(3)\n",
    "\n",
    "\n",
    "## 검색, 인기게시물\n",
    "main_hashtag = \"dog\"\n",
    "\n",
    "search_url = f'https://www.instagram.com/explore/tags/{main_hashtag}'\n",
    "\n",
    "browser.get(search_url)\n",
    "time.sleep(1)\n",
    "\n",
    "pop_posts = browser.find_elements_by_class_name('_9AhH0')[:9]\n",
    "\n",
    "print(len(pop_posts))\n",
    "\n",
    "\n",
    "## 인기게시물들에 있는 태그 다 가져오기\n",
    "pop_posts_tags = []\n",
    "\n",
    "for post in pop_posts:\n",
    "    post.click()\n",
    "    try:\n",
    "        wait_for((By.CLASS_NAME, \"xil3i\"))\n",
    "        tag_list = browser.find_elements_by_class_name('xil3i')\n",
    "        for tag in tag_list:\n",
    "            pop_posts_tags.append(tag.text[1:])\n",
    "    except:\n",
    "        pass\n",
    "    ActionChains(browser).send_keys(Keys.ESCAPE).perform()\n",
    "    \n",
    "\n",
    "print(len(pop_posts_tags))\n",
    "\n",
    "\n",
    "## 인기게시물들의 태그들 중 빈도수 순 10개 가져오기\n",
    "pop_tags = Counter(pop_posts_tags).most_common(10)\n",
    "pop_tag_li = [i for i,c in pop_tags]\n",
    "pop_tag_li.remove(main_hashtag)"
   ]
  },
  {
   "cell_type": "code",
   "execution_count": 28,
   "metadata": {
    "scrolled": true
   },
   "outputs": [
    {
     "data": {
      "text/plain": [
       "10"
      ]
     },
     "execution_count": 28,
     "metadata": {},
     "output_type": "execute_result"
    }
   ],
   "source": [
    "## 많이 나온 태그들 다시 검색해서 새탭에서 열기\n",
    "for tag in pop_tag_li:\n",
    "    main_hashtag = tag\n",
    "    search_url = f'https://www.instagram.com/explore/tags/{main_hashtag}'\n",
    "    browser.execute_script(\"window.open('\" +search_url +\"');\")\n",
    "\n",
    "len(browser.window_handles)"
   ]
  },
  {
   "cell_type": "code",
   "execution_count": 30,
   "metadata": {},
   "outputs": [
    {
     "data": {
      "text/plain": [
       "{'dog': '308919620',\n",
       " 'corgifeed': '767266',\n",
       " 'corgilover': '792690',\n",
       " 'cockerspanielpuppy': '1446424',\n",
       " 'doglovers': '41929618',\n",
       " 'cute': '630984395',\n",
       " 'フレンチブルドッグ': '4623850',\n",
       " 'puppy': '161774038',\n",
       " 'dogs': '132948986',\n",
       " 'dogsofinstagram': '242379772'}"
      ]
     },
     "execution_count": 30,
     "metadata": {},
     "output_type": "execute_result"
    }
   ],
   "source": [
    "## 모든 탭의 게시물 수 가져오기\n",
    "post_count_dic = {}\n",
    "\n",
    "for i in browser.window_handles:\n",
    "    next_tab = i\n",
    "    browser.switch_to.window(next_tab)\n",
    "    hashtag = wait_for((By.CLASS_NAME, '_7UhW9')).text[1:]\n",
    "    posts_count = wait_for((By.CLASS_NAME, 'g47SY')).text.replace(',','')\n",
    "    post_count_dic[hashtag] = posts_count\n",
    "\n",
    "post_count_dic"
   ]
  },
  {
   "cell_type": "code",
   "execution_count": null,
   "metadata": {},
   "outputs": [],
   "source": []
  },
  {
   "cell_type": "code",
   "execution_count": null,
   "metadata": {},
   "outputs": [],
   "source": []
  },
  {
   "cell_type": "code",
   "execution_count": null,
   "metadata": {},
   "outputs": [],
   "source": []
  },
  {
   "cell_type": "code",
   "execution_count": null,
   "metadata": {},
   "outputs": [],
   "source": []
  },
  {
   "cell_type": "code",
   "execution_count": null,
   "metadata": {},
   "outputs": [],
   "source": [
    "#         ActionChains(browser).key_down(Keys.CONTROL).click(tag).perform()"
   ]
  },
  {
   "cell_type": "code",
   "execution_count": null,
   "metadata": {},
   "outputs": [],
   "source": []
  },
  {
   "cell_type": "code",
   "execution_count": null,
   "metadata": {},
   "outputs": [],
   "source": []
  },
  {
   "cell_type": "code",
   "execution_count": null,
   "metadata": {},
   "outputs": [],
   "source": [
    "class instamining():\n",
    "    \n",
    "    def __init__(self, main_hashtag):\n",
    "        self.self.browser = webdriver.Chrome(ChromeDriverManager().install())\n",
    "        self.main_hashtag = main_hashtag\n",
    "        \n",
    "    def login(self):\n",
    "        self.browser.get(f'https://www.instagram.com/accounts/login/')\n",
    "\n",
    "        WebDriverWait(self.browser, 3).until(\n",
    "        EC.presence_of_element_located((By.CLASS_NAME, \"_2hvTZ\"))\n",
    "        )\n",
    "\n",
    "        insta_id = self.browser.find_element_by_name('username')\n",
    "        insta_pw = self.browser.find_element_by_name('password')\n",
    "\n",
    "        insta_id.send_keys(insta_ID)\n",
    "        insta_pw.send_keys(insta_PD)\n",
    "        insta_pw.send_keys(Keys.ENTER)\n",
    "\n",
    "        time.sleep(3)\n",
    "\n",
    "        \n",
    "    def search(self, main_hashtag):\n",
    "        self.browser.get(f'https://www.instagram.com/explore/tags/{main_hashtag}')\n",
    "        time.sleep(1)\n",
    "        header = WebDriverWait(browser,3).until(\n",
    "            EC.presence_of_element_located((By.TAG_NAME, \"header\"))\n",
    "        )\n",
    "\n",
    "        self.get_pop_tags()\n",
    "        \n",
    "\n",
    "    def get_pop_tags(self):\n",
    "        pop_posts = self.browser.find_elements_by_class_name('_9AhH0')[:9]\n",
    "        pop_posts_tags = []\n",
    "        for post in pop_posts:\n",
    "            post.click()\n",
    "            try:\n",
    "                WebDriverWait(self.browser, 3).until(\n",
    "                EC.presence_of_element_located((By.CLASS_NAME, \"xil3i\"))\n",
    "                )\n",
    "                tag_list = self.browser.find_elements_by_class_name('xil3i')\n",
    "                for tag in tag_list:\n",
    "                    pop_posts_tags.append(tag.text[1:])\n",
    "            except:\n",
    "                pass\n",
    "            ActionChains(self.browser).send_keys(Keys.ESCAPE).perform()\n",
    "            \n",
    "    def \n",
    "        self.pop_tags = Counter(pop_posts_tags).most_common(10)\n",
    "        for tag in pop_tags:\n",
    "            self.search(tag)\n",
    "\n",
    "    "
   ]
  },
  {
   "cell_type": "code",
   "execution_count": 56,
   "metadata": {},
   "outputs": [],
   "source": [
    "# pop_tags = ko.vocab().most_common(10)\n",
    "\n",
    "# ko = nltk.Text(pop_posts_tags, name='태그')\n",
    "\n",
    "# plt.figure(figsize=(12,6))\n",
    "# ko.plot(50)\n",
    "\n",
    "# wordcloud = WordCloud(relative_scaling=0.2, background_color='white',\n",
    "#                      ).generate_from_frequencies(dict(data))\n",
    "\n",
    "# plt.figure(figsize=(12,8))\n",
    "# plt.imshow(wordcloud)"
   ]
  },
  {
   "cell_type": "code",
   "execution_count": null,
   "metadata": {},
   "outputs": [],
   "source": [
    "# from wordcloud import WordCloud, STOPWORDS\n",
    "# import matplotlib.pyplot as plt\n",
    "# import nltk"
   ]
  }
 ],
 "metadata": {
  "kernelspec": {
   "display_name": "Python 3",
   "language": "python",
   "name": "python3"
  },
  "language_info": {
   "codemirror_mode": {
    "name": "ipython",
    "version": 3
   },
   "file_extension": ".py",
   "mimetype": "text/x-python",
   "name": "python",
   "nbconvert_exporter": "python",
   "pygments_lexer": "ipython3",
   "version": "3.8.3"
  }
 },
 "nbformat": 4,
 "nbformat_minor": 4
}
