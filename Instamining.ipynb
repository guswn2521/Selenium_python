{
 "cells": [
  {
   "cell_type": "code",
   "execution_count": 5,
   "metadata": {},
   "outputs": [],
   "source": [
    "from selenium import webdriver\n",
    "from webdriver_manager.chrome import ChromeDriverManager\n",
    "from selenium.webdriver.common.keys import Keys\n",
    "from selenium.webdriver import ActionChains\n",
    "import time\n",
    "from selenium.webdriver.common.by import By\n",
    "from selenium.webdriver.support import expected_conditions as EC\n",
    "from selenium.webdriver.support.ui import WebDriverWait\n",
    "from dotenv import dotenv_values\n",
    "config = dotenv_values('.env')"
   ]
  },
  {
   "cell_type": "code",
   "execution_count": 2,
   "metadata": {},
   "outputs": [],
   "source": [
    "insta_ID = config['insta_ID']\n",
    "insta_PD = config['insta_PD']"
   ]
  },
  {
   "cell_type": "code",
   "execution_count": 23,
   "metadata": {},
   "outputs": [
    {
     "name": "stderr",
     "output_type": "stream",
     "text": [
      "\n",
      "\n",
      "====== WebDriver manager ======\n",
      "Current google-chrome version is 91.0.4472\n",
      "Get LATEST driver version for 91.0.4472\n",
      "Driver [C:\\Users\\guswn\\.wdm\\drivers\\chromedriver\\win32\\91.0.4472.19\\chromedriver.exe] found in cache\n"
     ]
    }
   ],
   "source": [
    "## 로그인\n",
    "browser = webdriver.Chrome(ChromeDriverManager().install())\n",
    "browser.get(f'https://www.instagram.com/accounts/login/')\n",
    "\n",
    "WebDriverWait(browser, 3).until(\n",
    "EC.presence_of_element_located((By.CLASS_NAME, \"_2hvTZ\"))\n",
    ")\n",
    "\n",
    "insta_id = browser.find_element_by_name('username')\n",
    "insta_pw = browser.find_element_by_name('password')\n",
    "\n",
    "insta_id.send_keys(insta_ID)\n",
    "insta_pw.send_keys(insta_PD)\n",
    "insta_pw.send_keys(Keys.ENTER)\n",
    "\n",
    "time.sleep(2)\n",
    "\n",
    "\n",
    "## 검색, 인기게시물\n",
    "main_hashtag = \"dog\"\n",
    "browser.get(f'https://www.instagram.com/explore/tags/{main_hashtag}')\n",
    "time.sleep(1)\n",
    "header = WebDriverWait(browser,3).until(\n",
    "    EC.presence_of_element_located((By.TAG_NAME, \"header\"))\n",
    ")\n",
    "\n",
    "pop_posts = browser.find_elements_by_class_name('_9AhH0')\n",
    "\n",
    "len(pop_posts)"
   ]
  },
  {
   "cell_type": "code",
   "execution_count": 26,
   "metadata": {},
   "outputs": [],
   "source": [
    "for post in pop_posts:\n",
    "    post.click()\n",
    "    tag_list = browser.find_elements_by_class_name('xil3i')\n",
    "    for tag in tag_list:\n",
    "        ActionChains(browser).key_down(Keys.CONTROL).click(tag).perform()\n",
    "    break\n",
    "    "
   ]
  },
  {
   "cell_type": "code",
   "execution_count": 19,
   "metadata": {},
   "outputs": [],
   "source": [
    "pop_posts_photos = []"
   ]
  }
 ],
 "metadata": {
  "kernelspec": {
   "display_name": "Python 3",
   "language": "python",
   "name": "python3"
  },
  "language_info": {
   "codemirror_mode": {
    "name": "ipython",
    "version": 3
   },
   "file_extension": ".py",
   "mimetype": "text/x-python",
   "name": "python",
   "nbconvert_exporter": "python",
   "pygments_lexer": "ipython3",
   "version": "3.8.3"
  }
 },
 "nbformat": 4,
 "nbformat_minor": 4
}
