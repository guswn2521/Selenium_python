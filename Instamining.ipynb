{
 "cells": [
  {
   "cell_type": "code",
   "execution_count": 1,
   "metadata": {},
   "outputs": [],
   "source": [
    "from selenium import webdriver\n",
    "from webdriver_manager.chrome import ChromeDriverManager\n",
    "from selenium.webdriver.common.keys import Keys\n",
    "from selenium.webdriver import ActionChains\n",
    "from collections import Counter\n",
    "import time\n",
    "from selenium.webdriver.common.by import By\n",
    "from selenium.webdriver.support import expected_conditions as EC\n",
    "from selenium.webdriver.support.ui import WebDriverWait\n",
    "from dotenv import dotenv_values\n",
    "config = dotenv_values('.env')"
   ]
  },
  {
   "cell_type": "code",
   "execution_count": 2,
   "metadata": {},
   "outputs": [],
   "source": [
    "insta_ID = config['insta_ID']\n",
    "insta_PD = config['insta_PD']"
   ]
  },
  {
   "cell_type": "code",
   "execution_count": 10,
   "metadata": {},
   "outputs": [],
   "source": [
    "## 검색, 인기게시물\n",
    "main_hashtag = \"dog\"\n",
    "max_hashtag = 20\n",
    "\n",
    "post_count_dic = {}"
   ]
  },
  {
   "cell_type": "code",
   "execution_count": 25,
   "metadata": {},
   "outputs": [],
   "source": [
    "def wait_for(locator):\n",
    "    return WebDriverWait(browser, 4).until(\n",
    "    EC.presence_of_element_located(locator)\n",
    "    )"
   ]
  },
  {
   "cell_type": "code",
   "execution_count": 26,
   "metadata": {},
   "outputs": [],
   "source": [
    "def login():\n",
    "    \n",
    "    browser.get(f'https://www.instagram.com/accounts/login/')\n",
    "    \n",
    "    wait_for((By.CLASS_NAME, \"_2hvTZ\"))\n",
    "\n",
    "    insta_id = browser.find_element_by_name('username')\n",
    "    insta_pw = browser.find_element_by_name('password')\n",
    "\n",
    "    insta_id.send_keys(insta_ID)\n",
    "    insta_pw.send_keys(insta_PD)\n",
    "    insta_pw.send_keys(Keys.ENTER)\n",
    "\n",
    "    time.sleep(3)"
   ]
  },
  {
   "cell_type": "code",
   "execution_count": 27,
   "metadata": {},
   "outputs": [],
   "source": [
    "def extract_data():\n",
    "    for i in browser.window_handles:\n",
    "        next_tab = i\n",
    "        browser.switch_to.window(next_tab)\n",
    "        hashtag = wait_for((By.CLASS_NAME, '_7UhW9')).text[1:]\n",
    "        posts_count = wait_for((By.CLASS_NAME, 'g47SY')).text.replace(',','')\n",
    "        post_count_dic[hashtag] = posts_count"
   ]
  },
  {
   "cell_type": "code",
   "execution_count": 28,
   "metadata": {},
   "outputs": [],
   "source": [
    "def get_related(search_url):\n",
    "    login()\n",
    "    browser.get(search_url)\n",
    "    time.sleep(1)\n",
    "    pop_tag_li = poppost2tag(browser, frequency=10)\n",
    "    \n",
    "    ## 많이 나온 태그들 다시 검색해서 새탭에서 열기\n",
    "    for tag in pop_tag_li:\n",
    "        search_url = f'https://www.instagram.com/explore/tags/{tag}'\n",
    "        browser.execute_script(\"window.open('\" +search_url +\"');\")\n",
    "        \n",
    "    extract_data()\n",
    "    \n",
    "    if len(post_count_dic) < max_hashtag:\n",
    "        for window in browser.window_handles[0:-1]:\n",
    "            browser.switch_to.window(window)\n",
    "            browser.close()\n",
    "        browser.switch_to.window(browser.window_handles[0])\n",
    "        get_related(browser.current_url)\n",
    "    \n",
    "\n",
    "def poppost2tag(browser, frequency):\n",
    "    pop_posts = browser.find_elements_by_class_name('_9AhH0')[:9]\n",
    "    pop_posts_tags = []\n",
    "\n",
    "    for post in pop_posts:\n",
    "        post.click()\n",
    "        try:\n",
    "            wait_for((By.CLASS_NAME, \"xil3i\"))\n",
    "            tag_list = browser.find_elements_by_class_name('xil3i')\n",
    "            for tag in tag_list:\n",
    "                pop_posts_tags.append(tag.text[1:])\n",
    "        except:\n",
    "            pass\n",
    "        ActionChains(browser).send_keys(Keys.ESCAPE).perform()\n",
    "    ## 인기게시물들의 태그들 중 빈도수 순 10개 가져오기\n",
    "    pop_tags = Counter(pop_posts_tags).most_common(frequency)\n",
    "    pop_tag_li = [i for i,c in pop_tags]\n",
    "    pop_tag_li.remove(main_hashtag)\n",
    "    return pop_tag_li"
   ]
  },
  {
   "cell_type": "code",
   "execution_count": 29,
   "metadata": {},
   "outputs": [
    {
     "name": "stderr",
     "output_type": "stream",
     "text": [
      "\n",
      "\n",
      "====== WebDriver manager ======\n",
      "Current google-chrome version is 91.0.4472\n",
      "Get LATEST driver version for 91.0.4472\n",
      "Driver [C:\\Users\\guswn\\.wdm\\drivers\\chromedriver\\win32\\91.0.4472.19\\chromedriver.exe] found in cache\n"
     ]
    },
    {
     "ename": "TimeoutException",
     "evalue": "Message: \n",
     "output_type": "error",
     "traceback": [
      "\u001b[1;31m---------------------------------------------------------------------------\u001b[0m",
      "\u001b[1;31mTimeoutException\u001b[0m                          Traceback (most recent call last)",
      "\u001b[1;32m<ipython-input-29-8bf49aaa7d91>\u001b[0m in \u001b[0;36m<module>\u001b[1;34m\u001b[0m\n\u001b[0;32m      1\u001b[0m \u001b[0mbrowser\u001b[0m \u001b[1;33m=\u001b[0m \u001b[0mwebdriver\u001b[0m\u001b[1;33m.\u001b[0m\u001b[0mChrome\u001b[0m\u001b[1;33m(\u001b[0m\u001b[0mChromeDriverManager\u001b[0m\u001b[1;33m(\u001b[0m\u001b[1;33m)\u001b[0m\u001b[1;33m.\u001b[0m\u001b[0minstall\u001b[0m\u001b[1;33m(\u001b[0m\u001b[1;33m)\u001b[0m\u001b[1;33m)\u001b[0m\u001b[1;33m\u001b[0m\u001b[1;33m\u001b[0m\u001b[0m\n\u001b[1;32m----> 2\u001b[1;33m \u001b[0mget_related\u001b[0m\u001b[1;33m(\u001b[0m\u001b[1;34mf'https://www.instagram.com/explore/tags/{main_hashtag}'\u001b[0m\u001b[1;33m)\u001b[0m\u001b[1;33m\u001b[0m\u001b[1;33m\u001b[0m\u001b[0m\n\u001b[0m",
      "\u001b[1;32m<ipython-input-28-00194d2a6157>\u001b[0m in \u001b[0;36mget_related\u001b[1;34m(search_url)\u001b[0m\n\u001b[0;32m     17\u001b[0m             \u001b[0mbrowser\u001b[0m\u001b[1;33m.\u001b[0m\u001b[0mclose\u001b[0m\u001b[1;33m(\u001b[0m\u001b[1;33m)\u001b[0m\u001b[1;33m\u001b[0m\u001b[1;33m\u001b[0m\u001b[0m\n\u001b[0;32m     18\u001b[0m         \u001b[0mbrowser\u001b[0m\u001b[1;33m.\u001b[0m\u001b[0mswitch_to\u001b[0m\u001b[1;33m.\u001b[0m\u001b[0mwindow\u001b[0m\u001b[1;33m(\u001b[0m\u001b[0mbrowser\u001b[0m\u001b[1;33m.\u001b[0m\u001b[0mwindow_handles\u001b[0m\u001b[1;33m[\u001b[0m\u001b[1;36m0\u001b[0m\u001b[1;33m]\u001b[0m\u001b[1;33m)\u001b[0m\u001b[1;33m\u001b[0m\u001b[1;33m\u001b[0m\u001b[0m\n\u001b[1;32m---> 19\u001b[1;33m         \u001b[0mget_related\u001b[0m\u001b[1;33m(\u001b[0m\u001b[0mbrowser\u001b[0m\u001b[1;33m.\u001b[0m\u001b[0mcurrent_url\u001b[0m\u001b[1;33m)\u001b[0m\u001b[1;33m\u001b[0m\u001b[1;33m\u001b[0m\u001b[0m\n\u001b[0m\u001b[0;32m     20\u001b[0m \u001b[1;33m\u001b[0m\u001b[0m\n\u001b[0;32m     21\u001b[0m \u001b[1;33m\u001b[0m\u001b[0m\n",
      "\u001b[1;32m<ipython-input-28-00194d2a6157>\u001b[0m in \u001b[0;36mget_related\u001b[1;34m(search_url)\u001b[0m\n\u001b[0;32m      1\u001b[0m \u001b[1;32mdef\u001b[0m \u001b[0mget_related\u001b[0m\u001b[1;33m(\u001b[0m\u001b[0msearch_url\u001b[0m\u001b[1;33m)\u001b[0m\u001b[1;33m:\u001b[0m\u001b[1;33m\u001b[0m\u001b[1;33m\u001b[0m\u001b[0m\n\u001b[1;32m----> 2\u001b[1;33m     \u001b[0mlogin\u001b[0m\u001b[1;33m(\u001b[0m\u001b[1;33m)\u001b[0m\u001b[1;33m\u001b[0m\u001b[1;33m\u001b[0m\u001b[0m\n\u001b[0m\u001b[0;32m      3\u001b[0m     \u001b[0mbrowser\u001b[0m\u001b[1;33m.\u001b[0m\u001b[0mget\u001b[0m\u001b[1;33m(\u001b[0m\u001b[0msearch_url\u001b[0m\u001b[1;33m)\u001b[0m\u001b[1;33m\u001b[0m\u001b[1;33m\u001b[0m\u001b[0m\n\u001b[0;32m      4\u001b[0m     \u001b[0mtime\u001b[0m\u001b[1;33m.\u001b[0m\u001b[0msleep\u001b[0m\u001b[1;33m(\u001b[0m\u001b[1;36m1\u001b[0m\u001b[1;33m)\u001b[0m\u001b[1;33m\u001b[0m\u001b[1;33m\u001b[0m\u001b[0m\n\u001b[0;32m      5\u001b[0m     \u001b[0mpop_tag_li\u001b[0m \u001b[1;33m=\u001b[0m \u001b[0mpoppost2tag\u001b[0m\u001b[1;33m(\u001b[0m\u001b[0mbrowser\u001b[0m\u001b[1;33m,\u001b[0m \u001b[0mfrequency\u001b[0m\u001b[1;33m=\u001b[0m\u001b[1;36m10\u001b[0m\u001b[1;33m)\u001b[0m\u001b[1;33m\u001b[0m\u001b[1;33m\u001b[0m\u001b[0m\n",
      "\u001b[1;32m<ipython-input-26-d53558e4a9fa>\u001b[0m in \u001b[0;36mlogin\u001b[1;34m()\u001b[0m\n\u001b[0;32m      3\u001b[0m     \u001b[0mbrowser\u001b[0m\u001b[1;33m.\u001b[0m\u001b[0mget\u001b[0m\u001b[1;33m(\u001b[0m\u001b[1;34mf'https://www.instagram.com/accounts/login/'\u001b[0m\u001b[1;33m)\u001b[0m\u001b[1;33m\u001b[0m\u001b[1;33m\u001b[0m\u001b[0m\n\u001b[0;32m      4\u001b[0m \u001b[1;33m\u001b[0m\u001b[0m\n\u001b[1;32m----> 5\u001b[1;33m     \u001b[0mwait_for\u001b[0m\u001b[1;33m(\u001b[0m\u001b[1;33m(\u001b[0m\u001b[0mBy\u001b[0m\u001b[1;33m.\u001b[0m\u001b[0mCLASS_NAME\u001b[0m\u001b[1;33m,\u001b[0m \u001b[1;34m\"_2hvTZ\"\u001b[0m\u001b[1;33m)\u001b[0m\u001b[1;33m)\u001b[0m\u001b[1;33m\u001b[0m\u001b[1;33m\u001b[0m\u001b[0m\n\u001b[0m\u001b[0;32m      6\u001b[0m \u001b[1;33m\u001b[0m\u001b[0m\n\u001b[0;32m      7\u001b[0m     \u001b[0minsta_id\u001b[0m \u001b[1;33m=\u001b[0m \u001b[0mbrowser\u001b[0m\u001b[1;33m.\u001b[0m\u001b[0mfind_element_by_name\u001b[0m\u001b[1;33m(\u001b[0m\u001b[1;34m'username'\u001b[0m\u001b[1;33m)\u001b[0m\u001b[1;33m\u001b[0m\u001b[1;33m\u001b[0m\u001b[0m\n",
      "\u001b[1;32m<ipython-input-25-0ee661593632>\u001b[0m in \u001b[0;36mwait_for\u001b[1;34m(locator)\u001b[0m\n\u001b[0;32m      1\u001b[0m \u001b[1;32mdef\u001b[0m \u001b[0mwait_for\u001b[0m\u001b[1;33m(\u001b[0m\u001b[0mlocator\u001b[0m\u001b[1;33m)\u001b[0m\u001b[1;33m:\u001b[0m\u001b[1;33m\u001b[0m\u001b[1;33m\u001b[0m\u001b[0m\n\u001b[1;32m----> 2\u001b[1;33m     return WebDriverWait(browser, 4).until(\n\u001b[0m\u001b[0;32m      3\u001b[0m     \u001b[0mEC\u001b[0m\u001b[1;33m.\u001b[0m\u001b[0mpresence_of_element_located\u001b[0m\u001b[1;33m(\u001b[0m\u001b[0mlocator\u001b[0m\u001b[1;33m)\u001b[0m\u001b[1;33m\u001b[0m\u001b[1;33m\u001b[0m\u001b[0m\n\u001b[0;32m      4\u001b[0m     )\n",
      "\u001b[1;32m~\\anaconda3\\lib\\site-packages\\selenium\\webdriver\\support\\wait.py\u001b[0m in \u001b[0;36muntil\u001b[1;34m(self, method, message)\u001b[0m\n\u001b[0;32m     78\u001b[0m             \u001b[1;32mif\u001b[0m \u001b[0mtime\u001b[0m\u001b[1;33m.\u001b[0m\u001b[0mtime\u001b[0m\u001b[1;33m(\u001b[0m\u001b[1;33m)\u001b[0m \u001b[1;33m>\u001b[0m \u001b[0mend_time\u001b[0m\u001b[1;33m:\u001b[0m\u001b[1;33m\u001b[0m\u001b[1;33m\u001b[0m\u001b[0m\n\u001b[0;32m     79\u001b[0m                 \u001b[1;32mbreak\u001b[0m\u001b[1;33m\u001b[0m\u001b[1;33m\u001b[0m\u001b[0m\n\u001b[1;32m---> 80\u001b[1;33m         \u001b[1;32mraise\u001b[0m \u001b[0mTimeoutException\u001b[0m\u001b[1;33m(\u001b[0m\u001b[0mmessage\u001b[0m\u001b[1;33m,\u001b[0m \u001b[0mscreen\u001b[0m\u001b[1;33m,\u001b[0m \u001b[0mstacktrace\u001b[0m\u001b[1;33m)\u001b[0m\u001b[1;33m\u001b[0m\u001b[1;33m\u001b[0m\u001b[0m\n\u001b[0m\u001b[0;32m     81\u001b[0m \u001b[1;33m\u001b[0m\u001b[0m\n\u001b[0;32m     82\u001b[0m     \u001b[1;32mdef\u001b[0m \u001b[0muntil_not\u001b[0m\u001b[1;33m(\u001b[0m\u001b[0mself\u001b[0m\u001b[1;33m,\u001b[0m \u001b[0mmethod\u001b[0m\u001b[1;33m,\u001b[0m \u001b[0mmessage\u001b[0m\u001b[1;33m=\u001b[0m\u001b[1;34m''\u001b[0m\u001b[1;33m)\u001b[0m\u001b[1;33m:\u001b[0m\u001b[1;33m\u001b[0m\u001b[1;33m\u001b[0m\u001b[0m\n",
      "\u001b[1;31mTimeoutException\u001b[0m: Message: \n"
     ]
    }
   ],
   "source": [
    "browser = webdriver.Chrome(ChromeDriverManager().install())\n",
    "get_related(f'https://www.instagram.com/explore/tags/{main_hashtag}')"
   ]
  },
  {
   "cell_type": "code",
   "execution_count": 4,
   "metadata": {},
   "outputs": [
    {
     "name": "stderr",
     "output_type": "stream",
     "text": [
      "\n",
      "\n",
      "====== WebDriver manager ======\n",
      "Current google-chrome version is 91.0.4472\n",
      "Get LATEST driver version for 91.0.4472\n",
      "Driver [C:\\Users\\guswn\\.wdm\\drivers\\chromedriver\\win32\\91.0.4472.19\\chromedriver.exe] found in cache\n"
     ]
    },
    {
     "name": "stdout",
     "output_type": "stream",
     "text": [
      "9\n",
      "277\n"
     ]
    }
   ],
   "source": [
    "## 로그인\n",
    "browser = webdriver.Chrome(ChromeDriverManager().install())\n",
    "browser.get(f'https://www.instagram.com/accounts/login/')\n",
    "\n",
    "wait_for((By.CLASS_NAME, \"_2hvTZ\"))\n",
    "\n",
    "insta_id = browser.find_element_by_name('username')\n",
    "insta_pw = browser.find_element_by_name('password')\n",
    "\n",
    "insta_id.send_keys(insta_ID)\n",
    "insta_pw.send_keys(insta_PD)\n",
    "insta_pw.send_keys(Keys.ENTER)\n",
    "\n",
    "time.sleep(3)\n",
    "\n",
    "\n",
    "\n",
    "\n",
    "search_url = f'https://www.instagram.com/explore/tags/{main_hashtag}'\n",
    "\n",
    "browser.get(search_url)\n",
    "time.sleep(1)\n",
    "\n",
    "pop_posts = browser.find_elements_by_class_name('_9AhH0')[:9]\n",
    "\n",
    "# print(len(pop_posts))\n",
    "\n",
    "\n",
    "## 인기게시물들에 있는 태그 다 가져오기\n",
    "pop_posts_tags = []\n",
    "\n",
    "for post in pop_posts:\n",
    "    post.click()\n",
    "    try:\n",
    "        wait_for((By.CLASS_NAME, \"xil3i\"))\n",
    "        tag_list = browser.find_elements_by_class_name('xil3i')\n",
    "        for tag in tag_list:\n",
    "            pop_posts_tags.append(tag.text[1:])\n",
    "    except:\n",
    "        pass\n",
    "    ActionChains(browser).send_keys(Keys.ESCAPE).perform()\n",
    "    \n",
    "\n",
    "# print(len(pop_posts_tags))\n",
    "\n",
    "\n",
    "## 인기게시물들의 태그들 중 빈도수 순 10개 가져오기\n",
    "pop_tags = Counter(pop_posts_tags).most_common(10)\n",
    "pop_tag_li = [i for i,c in pop_tags]\n",
    "pop_tag_li.remove(main_hashtag)"
   ]
  },
  {
   "cell_type": "code",
   "execution_count": 5,
   "metadata": {
    "scrolled": true
   },
   "outputs": [
    {
     "data": {
      "text/plain": [
       "10"
      ]
     },
     "execution_count": 5,
     "metadata": {},
     "output_type": "execute_result"
    }
   ],
   "source": [
    "## 많이 나온 태그들 다시 검색해서 새탭에서 열기\n",
    "for tag in pop_tag_li:\n",
    "    main_hashtag = tag\n",
    "    search_url = f'https://www.instagram.com/explore/tags/{main_hashtag}'\n",
    "    browser.execute_script(\"window.open('\" +search_url +\"');\")\n",
    "\n",
    "len(browser.window_handles)"
   ]
  },
  {
   "cell_type": "code",
   "execution_count": 6,
   "metadata": {},
   "outputs": [
    {
     "data": {
      "text/plain": [
       "{'dog': '309032289',\n",
       " 'dogstagram': '108272135',\n",
       " 'dogoftheday': '61422827',\n",
       " 'dogsofinstagram': '242499541',\n",
       " 'doglover': '66599306',\n",
       " 'puppy': '161840725',\n",
       " 'puppiesofinstagram': '52034277',\n",
       " 'puppies': '42376667',\n",
       " 'puppylove': '66876849',\n",
       " 'dogs': '133010188'}"
      ]
     },
     "execution_count": 6,
     "metadata": {},
     "output_type": "execute_result"
    }
   ],
   "source": [
    "## 모든 탭의 게시물 수 가져오기\n",
    "post_count_dic = {}\n",
    "\n",
    "for i in browser.window_handles:\n",
    "    next_tab = i\n",
    "    browser.switch_to.window(next_tab)\n",
    "    hashtag = wait_for((By.CLASS_NAME, '_7UhW9')).text[1:]\n",
    "    posts_count = wait_for((By.CLASS_NAME, 'g47SY')).text.replace(',','')\n",
    "    post_count_dic[hashtag] = posts_count\n",
    "    \n",
    "    \n",
    "\n",
    "post_count_dic"
   ]
  },
  {
   "cell_type": "code",
   "execution_count": 7,
   "metadata": {},
   "outputs": [],
   "source": [
    "for window in browser.window_handles[0:-1]:\n",
    "    browser.switch_to.window(window)\n",
    "    browser.close()"
   ]
  },
  {
   "cell_type": "code",
   "execution_count": null,
   "metadata": {},
   "outputs": [],
   "source": []
  },
  {
   "cell_type": "code",
   "execution_count": null,
   "metadata": {},
   "outputs": [],
   "source": []
  },
  {
   "cell_type": "code",
   "execution_count": null,
   "metadata": {},
   "outputs": [],
   "source": []
  },
  {
   "cell_type": "code",
   "execution_count": null,
   "metadata": {},
   "outputs": [],
   "source": [
    "#         ActionChains(browser).key_down(Keys.CONTROL).click(tag).perform()"
   ]
  },
  {
   "cell_type": "code",
   "execution_count": null,
   "metadata": {},
   "outputs": [],
   "source": []
  },
  {
   "cell_type": "code",
   "execution_count": null,
   "metadata": {},
   "outputs": [],
   "source": []
  },
  {
   "cell_type": "code",
   "execution_count": null,
   "metadata": {},
   "outputs": [],
   "source": [
    "class instamining():\n",
    "    \n",
    "    def __init__(self, main_hashtag):\n",
    "        self.self.browser = webdriver.Chrome(ChromeDriverManager().install())\n",
    "        self.main_hashtag = main_hashtag\n",
    "        \n",
    "    def login(self):\n",
    "        self.browser.get(f'https://www.instagram.com/accounts/login/')\n",
    "\n",
    "        WebDriverWait(self.browser, 3).until(\n",
    "        EC.presence_of_element_located((By.CLASS_NAME, \"_2hvTZ\"))\n",
    "        )\n",
    "\n",
    "        insta_id = self.browser.find_element_by_name('username')\n",
    "        insta_pw = self.browser.find_element_by_name('password')\n",
    "\n",
    "        insta_id.send_keys(insta_ID)\n",
    "        insta_pw.send_keys(insta_PD)\n",
    "        insta_pw.send_keys(Keys.ENTER)\n",
    "\n",
    "        time.sleep(3)\n",
    "\n",
    "        \n",
    "    def search(self, main_hashtag):\n",
    "        self.browser.get(f'https://www.instagram.com/explore/tags/{main_hashtag}')\n",
    "        time.sleep(1)\n",
    "        header = WebDriverWait(browser,3).until(\n",
    "            EC.presence_of_element_located((By.TAG_NAME, \"header\"))\n",
    "        )\n",
    "\n",
    "        self.get_pop_tags()\n",
    "        \n",
    "\n",
    "    def get_pop_tags(self):\n",
    "        pop_posts = self.browser.find_elements_by_class_name('_9AhH0')[:9]\n",
    "        pop_posts_tags = []\n",
    "        for post in pop_posts:\n",
    "            post.click()\n",
    "            try:\n",
    "                WebDriverWait(self.browser, 3).until(\n",
    "                EC.presence_of_element_located((By.CLASS_NAME, \"xil3i\"))\n",
    "                )\n",
    "                tag_list = self.browser.find_elements_by_class_name('xil3i')\n",
    "                for tag in tag_list:\n",
    "                    pop_posts_tags.append(tag.text[1:])\n",
    "            except:\n",
    "                pass\n",
    "            ActionChains(self.browser).send_keys(Keys.ESCAPE).perform()\n",
    "            \n",
    "    def \n",
    "        self.pop_tags = Counter(pop_posts_tags).most_common(10)\n",
    "        for tag in pop_tags:\n",
    "            self.search(tag)\n",
    "\n",
    "    "
   ]
  },
  {
   "cell_type": "code",
   "execution_count": 56,
   "metadata": {},
   "outputs": [],
   "source": [
    "# pop_tags = ko.vocab().most_common(10)\n",
    "\n",
    "# ko = nltk.Text(pop_posts_tags, name='태그')\n",
    "\n",
    "# plt.figure(figsize=(12,6))\n",
    "# ko.plot(50)\n",
    "\n",
    "# wordcloud = WordCloud(relative_scaling=0.2, background_color='white',\n",
    "#                      ).generate_from_frequencies(dict(data))\n",
    "\n",
    "# plt.figure(figsize=(12,8))\n",
    "# plt.imshow(wordcloud)"
   ]
  },
  {
   "cell_type": "code",
   "execution_count": null,
   "metadata": {},
   "outputs": [],
   "source": [
    "# from wordcloud import WordCloud, STOPWORDS\n",
    "# import matplotlib.pyplot as plt\n",
    "# import nltk"
   ]
  }
 ],
 "metadata": {
  "kernelspec": {
   "display_name": "Python 3",
   "language": "python",
   "name": "python3"
  },
  "language_info": {
   "codemirror_mode": {
    "name": "ipython",
    "version": 3
   },
   "file_extension": ".py",
   "mimetype": "text/x-python",
   "name": "python",
   "nbconvert_exporter": "python",
   "pygments_lexer": "ipython3",
   "version": "3.8.3"
  }
 },
 "nbformat": 4,
 "nbformat_minor": 4
}
