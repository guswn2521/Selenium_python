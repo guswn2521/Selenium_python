{
 "cells": [
  {
   "cell_type": "code",
   "execution_count": 40,
   "metadata": {},
   "outputs": [],
   "source": [
    "from math import ceil\n",
    "from selenium import webdriver\n",
    "from webdriver_manager.chrome import ChromeDriverManager\n",
    "import time\n",
    "import os"
   ]
  },
  {
   "cell_type": "code",
   "execution_count": 44,
   "metadata": {},
   "outputs": [],
   "source": [
    "class ResponsiveTester():\n",
    "    \n",
    "    def __init__(self, urls):\n",
    "        self.browser = webdriver.Chrome(ChromeDriverManager().install())\n",
    "        self.browser.maximize_window()\n",
    "        self.urls = urls\n",
    "        self.sizes = [480,960,1366,1920]\n",
    "        \n",
    "        \n",
    "    def screenshot(self, url, directory):\n",
    "        BROWSER_HEIGHT = self.browser.get_window_size()['height']\n",
    "        self.browser.get(url)\n",
    "        \n",
    "        for size in sizes:\n",
    "            self.browser.set_window_size(size, BROWSER_HEIGHT)  ## 창크기 변경\n",
    "            self.browser.execute_script(\"window.scrollTo(0,0)\")  ## 스크롤올리기\n",
    "            time.sleep(1)\n",
    "            scroll_size = self.browser.execute_script('return document.body.scrollHeight')  ## 전체 스크롤길이(본문내용길이)\n",
    "            total_sections = ceil(scroll_size / BROWSER_HEIGHT)\n",
    "            for section in range(total_sections):\n",
    "                self.browser.execute_script(f'window.scrollTo(0, {(section+1) * BROWSER_HEIGHT})')\n",
    "                self.browser.save_screenshot(f'screenshots/{directory}/{size}x{section+1}.png')\n",
    "                time.sleep(0.5)\n",
    "        \n",
    "    \n",
    "    def start(self):\n",
    "        for url in self.urls:\n",
    "            directory = url.split('//')[1].split('.')[-2]\n",
    "            os.makedirs(f\"screenshots/{directory}\", exist_ok=True)\n",
    "            self.screenshot(url, directory)\n",
    "            \n",
    "        "
   ]
  },
  {
   "cell_type": "code",
   "execution_count": 35,
   "metadata": {},
   "outputs": [],
   "source": [
    "urls = [\"https://nomadcoders.co\",\"https://www.naver.com/\"]"
   ]
  },
  {
   "cell_type": "code",
   "execution_count": 45,
   "metadata": {},
   "outputs": [
    {
     "name": "stderr",
     "output_type": "stream",
     "text": [
      "\n",
      "\n",
      "====== WebDriver manager ======\n",
      "Current google-chrome version is 91.0.4472\n",
      "Get LATEST driver version for 91.0.4472\n",
      "Driver [C:\\Users\\guswn\\.wdm\\drivers\\chromedriver\\win32\\91.0.4472.19\\chromedriver.exe] found in cache\n"
     ]
    }
   ],
   "source": [
    "tester = ResponsiveTester(urls)\n",
    "tester.start()"
   ]
  },
  {
   "cell_type": "code",
   "execution_count": null,
   "metadata": {},
   "outputs": [],
   "source": []
  }
 ],
 "metadata": {
  "kernelspec": {
   "display_name": "Python 3",
   "language": "python",
   "name": "python3"
  },
  "language_info": {
   "codemirror_mode": {
    "name": "ipython",
    "version": 3
   },
   "file_extension": ".py",
   "mimetype": "text/x-python",
   "name": "python",
   "nbconvert_exporter": "python",
   "pygments_lexer": "ipython3",
   "version": "3.8.3"
  }
 },
 "nbformat": 4,
 "nbformat_minor": 4
}
