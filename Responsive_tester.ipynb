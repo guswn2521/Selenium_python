{
 "cells": [
  {
   "cell_type": "code",
   "execution_count": 1,
   "metadata": {},
   "outputs": [],
   "source": [
    "from math import ceil\n",
    "from selenium import webdriver\n",
    "from webdriver_manager.chrome import ChromeDriverManager\n",
    "import time"
   ]
  },
  {
   "cell_type": "code",
   "execution_count": 9,
   "metadata": {},
   "outputs": [
    {
     "name": "stderr",
     "output_type": "stream",
     "text": [
      "\n",
      "\n",
      "====== WebDriver manager ======\n",
      "Current google-chrome version is 91.0.4472\n",
      "Get LATEST driver version for 91.0.4472\n",
      "Driver [C:\\Users\\guswn\\.wdm\\drivers\\chromedriver\\win32\\91.0.4472.19\\chromedriver.exe] found in cache\n"
     ]
    }
   ],
   "source": [
    "browser = webdriver.Chrome(ChromeDriverManager().install())\n",
    "\n",
    "browser.get('https://nomadcoders.co')\n",
    "\n",
    "## 창 최대화\n",
    "browser.maximize_window()\n",
    "\n",
    "\n",
    "sizes = [\n",
    "    480,\n",
    "    960,\n",
    "    1366,\n",
    "    1920\n",
    "]\n",
    "\n",
    "## 브라우저 높이구하기\n",
    "BROWSER_HEIGHT = browser.get_window_size()['height']\n",
    "print(BROWSER_HEIGHT)\n",
    "\n",
    "for size in sizes:\n",
    "    browser.set_window_size(size, BROWSER_HEIGHT)  ## 창크기 변경\n",
    "    browser.execute_script(\"window.scrollTo(0,0)\")  ## 스크롤올리기\n",
    "    time.sleep(1)\n",
    "    scroll_size = browser.execute_script('return document.body.scrollHeight')  ## 전체 스크롤길이(본문내용길이)\n",
    "    total_sections = ceil(scroll_size / BROWSER_HEIGHT)\n",
    "    for section in range(total_sections):\n",
    "        browser.execute_script(f'window.scrollTo(0, {(section+1) * BROWSER_HEIGHT})')\n",
    "        browser.save_screenshot(f'screenshots/{size}x{section+1}.png')\n",
    "        time.sleep(0.5)"
   ]
  },
  {
   "cell_type": "code",
   "execution_count": null,
   "metadata": {},
   "outputs": [],
   "source": []
  }
 ],
 "metadata": {
  "kernelspec": {
   "display_name": "Python 3",
   "language": "python",
   "name": "python3"
  },
  "language_info": {
   "codemirror_mode": {
    "name": "ipython",
    "version": 3
   },
   "file_extension": ".py",
   "mimetype": "text/x-python",
   "name": "python",
   "nbconvert_exporter": "python",
   "pygments_lexer": "ipython3",
   "version": "3.8.3"
  }
 },
 "nbformat": 4,
 "nbformat_minor": 4
}
